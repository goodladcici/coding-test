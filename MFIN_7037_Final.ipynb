{
  "nbformat": 4,
  "nbformat_minor": 0,
  "metadata": {
    "colab": {
      "provenance": [],
      "include_colab_link": true
    },
    "kernelspec": {
      "name": "python3",
      "display_name": "Python 3"
    },
    "language_info": {
      "name": "python"
    }
  },
  "cells": [
    {
      "cell_type": "markdown",
      "metadata": {
        "id": "view-in-github",
        "colab_type": "text"
      },
      "source": [
        "<a href=\"https://colab.research.google.com/github/goodladcici/coding-test/blob/main/MFIN_7037_Final.ipynb\" target=\"_parent\"><img src=\"https://colab.research.google.com/assets/colab-badge.svg\" alt=\"Open In Colab\"/></a>"
      ]
    },
    {
      "cell_type": "markdown",
      "source": [
        "## MFIN 7037 Final Replication - The Dividend Month Premium, Hartzmark and Solomon (2012)\n",
        "\n",
        "\n",
        "HUANG Jiayun 3035877531\n",
        "\\\n",
        "PAN Yijie 3035914341 \n",
        "\\\n",
        "XIE Tianci 3035942269  "
      ],
      "metadata": {
        "id": "nBQ92OzW00aI"
      }
    },
    {
      "cell_type": "code",
      "execution_count": null,
      "metadata": {
        "id": "UlJZHtPCpWIg"
      },
      "outputs": [],
      "source": [
        "import pandas as pd\n",
        "import numpy as np\n",
        "import os\n",
        "from datetime import datetime\n",
        "\n",
        "from tabulate import tabulate\n",
        "import statsmodels.formula.api as smf"
      ]
    },
    {
      "cell_type": "code",
      "source": [
        "from google.colab import drive\n",
        "drive.mount('/content/drive')"
      ],
      "metadata": {
        "colab": {
          "base_uri": "https://localhost:8080/"
        },
        "id": "YHjba7Lzpe6V",
        "outputId": "6b3a355c-dce2-4504-9966-bc9d4072af82"
      },
      "execution_count": null,
      "outputs": [
        {
          "output_type": "stream",
          "name": "stdout",
          "text": [
            "Drive already mounted at /content/drive; to attempt to forcibly remount, call drive.mount(\"/content/drive\", force_remount=True).\n"
          ]
        }
      ]
    },
    {
      "cell_type": "code",
      "source": [
        "os.chdir('/content/drive/MyDrive/')"
      ],
      "metadata": {
        "id": "_lFfEhcJpc-q"
      },
      "execution_count": null,
      "outputs": []
    },
    {
      "cell_type": "code",
      "source": [
        "df1 = pd.read_csv('qt_final_data.csv')\n",
        "df2 = pd.read_csv('bm.csv')"
      ],
      "metadata": {
        "id": "DBh9wi_OKGnd",
        "colab": {
          "base_uri": "https://localhost:8080/"
        },
        "outputId": "d309732a-cf25-422c-8c83-26de6fe2cb37"
      },
      "execution_count": null,
      "outputs": [
        {
          "output_type": "stream",
          "name": "stderr",
          "text": [
            "/usr/local/lib/python3.7/dist-packages/IPython/core/interactiveshell.py:2882: DtypeWarning: Columns (4) have mixed types.Specify dtype option on import or set low_memory=False.\n",
            "  exec(code_obj, self.user_global_ns, self.user_ns)\n"
          ]
        }
      ]
    },
    {
      "cell_type": "markdown",
      "source": [
        "## Preparation of data"
      ],
      "metadata": {
        "id": "buPSIAZDo5Ct"
      }
    },
    {
      "cell_type": "code",
      "source": [
        "df1 = df1[['PERMNO', 'date', 'SHRCD', 'EXCHCD','PAYDT','RCRDDT','DIVAMT','DISTCD',\n",
        "           'PRC', 'VOL', 'RET', 'SHROUT', 'SPREAD']]\n",
        "df1['date'] = df1['date'].str.replace('/','')\n",
        "df1['MARKETCAP'] = df1['PRC'].apply(np.abs) * df1['SHROUT']\n",
        "df1['TURNOVER'] = df1['VOL'] / df1['SHROUT']\n",
        "df1['PRC'] = df1['PRC'].apply(np.abs)\n",
        "\n",
        "\n",
        "df2 = df2[['permno','public_date','bm']]\n",
        "df2['public_date'] = df2['public_date'].apply(lambda x: str(x))\n",
        "\n",
        "\n",
        "df3 = pd.merge(df1, df2, how = 'left', left_on=['date','PERMNO'],right_on=['public_date','permno'] ).reset_index(drop = 'True')\n",
        "df3 = df3[(df3['EXCHCD']==1.0) | (df3['EXCHCD']==2.0)  |(df3['EXCHCD']==3.0)]\n",
        "df3 = df3[(df3['SHRCD']==10.0) | (df3['SHRCD']==11.0)]\n",
        "df3['prc_lag1'] = df3.groupby('PERMNO')['PRC'].shift(1)\n",
        "df3 = df3[df3['prc_lag1']>5]\n",
        "df3 = df3.dropna(subset = ['prc_lag1']).reset_index(drop = 'True')\n",
        "df3['year'] = df3['date'].apply(lambda x: x[:4])\n",
        "\n",
        "def div_last_year(x):\n",
        "    a = 0\n",
        "    if x!=0.0000:\n",
        "        a = 1\n",
        "    return a\n",
        "\n",
        "\n",
        "d = df3[['PERMNO', 'date','DIVAMT']]\n",
        "d = d.fillna(0.0)\n",
        "d['rolling12'] = d.groupby('PERMNO')['DIVAMT'].rolling(12).sum().reset_index(drop = 'True')\n",
        "#d = df3.groupby(['PERMNO'])['DIVAMT'].sum().reset_index()\n",
        "#d['sum_of_div_lag1'] = d.groupby('PERMNO')['DIVAMT'].shift(1)\n",
        "d['rolling12_lag1'] = d.groupby('PERMNO')['rolling12'].shift(1)\n",
        "\n",
        "d['pay_last_year'] = d['rolling12_lag1'].apply(div_last_year)\n",
        "\n",
        "\n",
        "d1 = d[d['pay_last_year']==1]\n",
        "d2 = d[d['pay_last_year']==0]\n",
        "\n",
        "df4 = df3.merge(d1, how='inner',on = ['PERMNO','date'])\n",
        "df4['DIVYLD'] = df4['DIVAMT_y']/df4['PRC']\n",
        "df4 = df4.dropna(subset=['DISTCD'])\n",
        "df4['DISTCD'] = df4['DISTCD'].apply(lambda x: str(x))\n",
        "df4['usd'] = df4['DISTCD'].apply(lambda x: x[:2])\n",
        "df4 = df4[df4['usd']=='12']\n",
        "\n",
        "\n",
        "\n",
        "df5 = df3.merge(d2, how='inner',on = ['PERMNO','date'])\n",
        "#df5 = df5.dropna()\n",
        "\n",
        "\n",
        "def find25(x):\n",
        "    x = x.dropna()\n",
        "    a = sorted(x)[int(np.ceil((len(x)*1/4)))]\n",
        "    return a\n",
        "def find50(x):\n",
        "    x = x.dropna()\n",
        "    a = sorted(x)[int(np.ceil((len(x)*2/4)))]\n",
        "    return a\n",
        "def find75(x):\n",
        "    x = x.dropna()\n",
        "    a = sorted(x)[int(np.ceil((len(x)*3/4)))]\n",
        "    return a"
      ],
      "metadata": {
        "id": "tNXJ4pG3lRXV",
        "colab": {
          "base_uri": "https://localhost:8080/"
        },
        "outputId": "ca927d4f-a777-4345-804d-46bdea25d107"
      },
      "execution_count": null,
      "outputs": [
        {
          "output_type": "stream",
          "name": "stderr",
          "text": [
            "/usr/local/lib/python3.7/dist-packages/ipykernel_launcher.py:16: SettingWithCopyWarning: \n",
            "A value is trying to be set on a copy of a slice from a DataFrame.\n",
            "Try using .loc[row_indexer,col_indexer] = value instead\n",
            "\n",
            "See the caveats in the documentation: https://pandas.pydata.org/pandas-docs/stable/user_guide/indexing.html#returning-a-view-versus-a-copy\n",
            "  app.launch_new_instance()\n"
          ]
        }
      ]
    },
    {
      "cell_type": "markdown",
      "source": [
        "## Table 1 Summary Statistics\n"
      ],
      "metadata": {
        "id": "FX2OA21noPr-"
      }
    },
    {
      "cell_type": "markdown",
      "source": [
        "## Panel A Firms with a Dividend in the Past Year"
      ],
      "metadata": {
        "id": "C1lWiImxoWE6"
      }
    },
    {
      "cell_type": "code",
      "source": [
        "t1 = [ ['Market capitalization($m)',df4['MARKETCAP'].count(),df4['MARKETCAP'].mean(),df4['MARKETCAP'].std(),find25(df4['MARKETCAP']),find50(df4['MARKETCAP']),find75(df4['MARKETCAP'])],\n",
        "     ['Book-to-market',df4['bm'].count(),df4['bm'].mean(),df4['bm'].std(),find25(df4['bm']),find50(df4['bm']),find75(df4['bm'])],\n",
        "     ['Turnover',df4['TURNOVER'].count(),df4['TURNOVER'].mean(),df4['TURNOVER'].std(),find25(df4['TURNOVER']),find50(df4['TURNOVER']),find75(df4['TURNOVER'])],\n",
        "     ['Bid-ask spread',df4['SPREAD'].count(),df4['SPREAD'].mean(),df4['SPREAD'].std(),find25(df4['SPREAD']),find50(df4['SPREAD']),find75(df4['SPREAD'])],\n",
        "     ['Dividend Yield',df4['DIVYLD'].count(),df4['DIVYLD'].mean(),df4['DIVYLD'].std(),find25(df4['DIVYLD']),find50(df4['DIVYLD']),find75(df4['DIVYLD'])],\n",
        "     ['Number of firm months',len(df4),'','','','',''],\n",
        "     ['Number of firms',len(list(set(df4['PERMNO']))),'','','','','']]\n",
        "\n",
        "print(tabulate(t1, headers=['','N', 'Mean', 'Std. Dev','25%','Median','75%']))"
      ],
      "metadata": {
        "colab": {
          "base_uri": "https://localhost:8080/"
        },
        "id": "nrJLRajplRPk",
        "outputId": "57c9bddc-7998-4152-8ab8-1f25e3097c0c"
      },
      "execution_count": null,
      "outputs": [
        {
          "output_type": "stream",
          "name": "stdout",
          "text": [
            "                                N  Mean                  Std. Dev             25%                   Median               75%\n",
            "-------------------------  ------  --------------------  -------------------  --------------------  -------------------  ------------------\n",
            "Market capitalization($m)  566754  2814243.401562194     20097546.78334686    36267.75              143573.25            742959.375\n",
            "Book-to-market             259647  1.0424909704329284    76.99521579314349    0.458                 0.727                1.083\n",
            "Turnover                   526823  0.5888223726074399    1.0672970508912407   0.10647181628392484   0.2624561403508772   0.6799436023968981\n",
            "Bid-ask spread              87394  1.2570615249330621    6.085833894372044    0.5                   0.75                 1.0\n",
            "Dividend Yield             566754  0.010079970302678333  0.03227274235180601  0.004545454545454545  0.00796812749003984  0.0125\n",
            "Number of firm months      567171\n",
            "Number of firms              9801\n"
          ]
        }
      ]
    },
    {
      "cell_type": "markdown",
      "source": [
        "## Panel B Firms without a Dividend in the Past Year"
      ],
      "metadata": {
        "id": "GRWI8KpEoa_O"
      }
    },
    {
      "cell_type": "code",
      "source": [
        "t2 = [ ['Market capitalization($m)',df5['MARKETCAP'].count(),df5['MARKETCAP'].mean(),df5['MARKETCAP'].std(),find25(df5['MARKETCAP']),find50(df5['MARKETCAP']),find75(df5['MARKETCAP'])],\n",
        "     ['Book-to-market',df5['bm'].count(),df5['bm'].mean(),df5['bm'].std(),find25(df5['bm']),find50(df5['bm']),find75(df5['bm'])],\n",
        "     ['Turnover',df5['TURNOVER'].count(),df5['TURNOVER'].mean(),df5['TURNOVER'].std(),find25(df5['TURNOVER']),find50(df5['TURNOVER']),find75(df5['TURNOVER'])],\n",
        "     ['Bid-ask spread',df5['SPREAD'].count(),df5['SPREAD'].mean(),df5['SPREAD'].std(),find25(df5['SPREAD']),find50(df5['SPREAD']),find75(df5['SPREAD'])],\n",
        "     ['Number of firm months',len(df5),'','','','',''],\n",
        "     ['Number of firms',len(list(set(df5['PERMNO']))),'','','','','']]\n",
        "\n",
        "print(tabulate(t2, headers=['','N', 'Mean', 'Std. Dev','25%','Median','75%']))"
      ],
      "metadata": {
        "colab": {
          "base_uri": "https://localhost:8080/"
        },
        "id": "poOpV_kqlRKs",
        "outputId": "941f109c-2ce4-4074-a541-ab5342a2c810"
      },
      "execution_count": null,
      "outputs": [
        {
          "output_type": "stream",
          "name": "stdout",
          "text": [
            "                                N  Mean                Std. Dev            25%                Median              75%\n",
            "-------------------------  ------  ------------------  ------------------  -----------------  ------------------  ------------------\n",
            "Market capitalization($m)  741955  1707389.7067144478  16766307.84184619   46186.0            181466.5            707879.9\n",
            "Book-to-market             454263  0.6053961119439415  0.9242606563661169  0.26               0.47                0.786\n",
            "Turnover                   722420  1.6548538992899018  3.3232509680251185  0.375518868694786  0.9696381108157841  2.0556726378644186\n",
            "Bid-ask spread              67533  0.9625176208668303  4.39396064088397    0.375              0.5                 1.0\n",
            "Number of firm months      746910\n",
            "Number of firms             12234\n"
          ]
        }
      ]
    },
    {
      "cell_type": "code",
      "source": [
        "df_fre = df4.copy()\n",
        "df_fre['index'] = df_fre['DISTCD'].apply(lambda x: x[2:3])\n",
        "\n",
        "df_fre['monthly'] = df_fre['index'].apply(lambda x: 1 if int(x)==2 else 0)\n",
        "df_fre['quarterly'] = df_fre['index'].apply(lambda x: 1 if int(x)==3 else 0)\n",
        "df_fre['semi'] = df_fre['index'].apply(lambda x: 1 if int(x)==4 else 0)\n",
        "df_fre['annually'] = df_fre['index'].apply(lambda x: 1 if int(x)==5 else 0)\n",
        "df_fre['unknown'] = df_fre['index'].apply(lambda x: 1 if int(x)<=1 else 0)"
      ],
      "metadata": {
        "id": "9Z356pwulRFu"
      },
      "execution_count": null,
      "outputs": []
    },
    {
      "cell_type": "code",
      "source": [
        "total = len(df4)+len(df5)\n",
        "anyfre = len(df_fre)/total\n",
        "monthly = len(df_fre[df_fre['monthly'] ==1])/total\n",
        "quarterly = len(df_fre[df_fre['quarterly'] ==1])/total\n",
        "semi = len(df_fre[df_fre['semi'] ==1])/total\n",
        "annually = len(df_fre[df_fre['annually'] ==1])/total\n",
        "unknown = len(df_fre[df_fre['unknown'] ==1])/total\n",
        "\n",
        "total_div = df_fre['DIVAMT_x'].sum()\n",
        "monthly_div = df_fre[df_fre['monthly'] ==1]['DIVAMT_x'].sum()/total_div\n",
        "quarterly_div = df_fre[df_fre['quarterly'] ==1]['DIVAMT_x'].sum()/total_div\n",
        "semi_div = df_fre[df_fre['semi'] ==1]['DIVAMT_x'].sum()/total_div\n",
        "annually_div = df_fre[df_fre['annually'] ==1]['DIVAMT_x'].sum()/total_div\n",
        "unknown_div = df_fre[df_fre['unknown'] ==1]['DIVAMT_x'].sum()/total_div"
      ],
      "metadata": {
        "id": "eVRAqmJelRAH"
      },
      "execution_count": null,
      "outputs": []
    },
    {
      "cell_type": "markdown",
      "source": [
        "## Panel C Distributions of Dividend Frequencies"
      ],
      "metadata": {
        "id": "Pb4FxJB-ornQ"
      }
    },
    {
      "cell_type": "code",
      "source": [
        "t3 = [['Any Frequency',anyfre,''],\n",
        "      ['Monthly', monthly, monthly_div],\n",
        "      ['Quarterly', quarterly, quarterly_div],\n",
        "      ['Semi-Annually', semi, semi_div],\n",
        "      ['Annually', annually, annually_div],\n",
        "      ['Unknown Frequency', unknown, unknown_div]]\n",
        "\n",
        "print(tabulate(t3, headers=['Dividend Frequency','Pct of Firm/Months with Div in the last yr', 'Pct of Div Observation']))"
      ],
      "metadata": {
        "colab": {
          "base_uri": "https://localhost:8080/"
        },
        "id": "5w7z0ZQplQ6E",
        "outputId": "af70cdff-9f40-4e6e-ac8e-5c4f533a89ff"
      },
      "execution_count": null,
      "outputs": [
        {
          "output_type": "stream",
          "name": "stdout",
          "text": [
            "Dividend Frequency      Pct of Firm/Months with Div in the last yr  Pct of Div Observation\n",
            "--------------------  --------------------------------------------  ------------------------\n",
            "Any Frequency                                           0.43161\n",
            "Monthly                                                 0.0031231   0.004468477151405742\n",
            "Quarterly                                               0.366926    0.7633702821700987\n",
            "Semi-Annually                                           0.00632153  0.010921838722132943\n",
            "Annually                                                0.00182181  0.004749345073605203\n",
            "Unknown Frequency                                       0.0314501   0.11318945400569931\n"
          ]
        }
      ]
    },
    {
      "cell_type": "code",
      "source": [],
      "metadata": {
        "id": "wDUdOC-0lQ0A"
      },
      "execution_count": null,
      "outputs": []
    },
    {
      "cell_type": "markdown",
      "source": [
        "# Table 2 Returns and the Probability of Current Dividend Payment, Sorted By Timing of Past"
      ],
      "metadata": {
        "id": "D6BbC1vwSrH9"
      }
    },
    {
      "cell_type": "code",
      "source": [
        "# Get data of DISTCD and RET after dividend\n",
        "df_1=df3[['PERMNO', 'date', 'DISTCD','PAYDT','DIVAMT', 'PRC', 'RET']]\n",
        "def Ret(x):\n",
        "    try:\n",
        "        return float(x)\n",
        "    except:\n",
        "        return None\n",
        "\n",
        "df_1['RET'] = df_1['RET'].apply(Ret)\n",
        "for i in range(1,13):\n",
        "    df_1[str(i)+'mths_DISTCD'] = df_1['DISTCD'].shift(-i)\n",
        "    df_1[str(i)+'mths_RET'] = df_1['RET'].shift(-i)\n",
        "df_1 = df_1.dropna(subset = ['DISTCD'])"
      ],
      "metadata": {
        "id": "ECr-bzPhoAWl"
      },
      "execution_count": null,
      "outputs": []
    },
    {
      "cell_type": "code",
      "source": [
        "# Totla number of dividends\n",
        "K = len(df_1)\n",
        "\n",
        "# Define function for counting Quaterly dividend\n",
        "def Qcounter(x):\n",
        "  if x[2]== '3' :    \n",
        "    return 1\n",
        "  else:\n",
        "    return 0 "
      ],
      "metadata": {
        "id": "48aCe0DxTx4K"
      },
      "execution_count": null,
      "outputs": []
    },
    {
      "cell_type": "code",
      "source": [
        "# Calculation\n",
        "M=[]\n",
        "S=[]\n",
        "PA=[]\n",
        "PQ=[]\n",
        "for i in range(1,13):\n",
        "    M.append(df_1[str(i)+'mths_RET'].dropna().mean()*100)\n",
        "    S.append(df_1[str(i)+'mths_RET'].dropna().std()*100)\n",
        "    PA.append(len(df_1[str(i)+'mths_DISTCD'].dropna())/K)\n",
        "    PQ.append(sum(df_1[str(i)+'mths_DISTCD'].dropna().apply(str).apply(Qcounter))/K)"
      ],
      "metadata": {
        "id": "vfbWfi9cUBdS"
      },
      "execution_count": null,
      "outputs": []
    },
    {
      "cell_type": "markdown",
      "source": [
        "## Panel A Raw returns and dividend payments"
      ],
      "metadata": {
        "id": "hJw_k6CxTG7s"
      }
    },
    {
      "cell_type": "code",
      "source": [
        "t2a = [ [\" \", \"Mean return\", \"Std. Deviation\", \"All Dividends\", \"Quarterly Dividends\"],\n",
        "     [\"1\",M[0],S[0],PA[0],PQ[0]],\n",
        "     [\"2\",M[1],S[1],PA[1],PQ[1]],\n",
        "     [\"3\",M[2],S[2],PA[2],PQ[2]],\n",
        "     [\"4\",M[3],S[3],PA[3],PQ[3]],\n",
        "     [\"5\",M[4],S[4],PA[4],PQ[4]],\n",
        "     [\"6\",M[5],S[5],PA[5],PQ[5]],\n",
        "     [\"7\",M[6],S[6],PA[6],PQ[6]],\n",
        "     [\"8\",M[7],S[7],PA[7],PQ[7]],\n",
        "     [\"9\",M[8],S[8],PA[8],PQ[8]],\n",
        "     [\"10\",M[9],S[9],PA[9],PQ[9]],\n",
        "     [\"11\",M[10],S[10],PA[10],PQ[10]],\n",
        "     [\"12\",M[11],S[11],PA[11],PQ[11]]]\n",
        "\n",
        "print(tabulate(t2a, headers=[\"Months Since Dividend\",\"Returns in Current Month\",\"Probability of Dividend\", \" \"]))"
      ],
      "metadata": {
        "colab": {
          "base_uri": "https://localhost:8080/"
        },
        "id": "Lc7u4jnUULnc",
        "outputId": "4305a34e-fbbf-452d-db77-9794da6e8a25"
      },
      "execution_count": null,
      "outputs": [
        {
          "output_type": "stream",
          "name": "stdout",
          "text": [
            "    Months Since Dividend    Returns in Current Month    Probability of Dividend\n",
            "--  -----------------------  --------------------------  -------------------------  -------------------\n",
            "    Mean return              Std. Deviation              All Dividends              Quarterly Dividends\n",
            "1   1.1293719892917007       10.123274918117296          0.0842421560016874         0.04732332418171382\n",
            "2   1.1610724479330066       10.188892278355517          0.08797138332376678        0.06082081036783978\n",
            "3   1.3485685235932048       10.066229478046775          0.7598045656669041         0.6824814489526352\n",
            "4   1.0557535868750256       10.190234596555104          0.15625410612651364        0.11251996874157164\n",
            "5   1.1421123919948433       10.286743375485235          0.10977621178276775        0.07758763770651655\n",
            "6   1.3283517294115148       10.147464919481909          0.7174068644061936         0.6376010539346201\n",
            "7   1.0869591426275336       10.294301910185093          0.17660839136658807        0.12840678833479713\n",
            "8   1.1280806768174114       10.362072771168707          0.12025677554097136        0.08561317003340226\n",
            "9   1.287918252496592        10.267070524211052          0.6763784482818238         0.6110469498827809\n",
            "10  1.040629976163218        10.378297908527259          0.1840253525217668         0.13987800914239873\n",
            "11  1.0954037629125355       10.498237072051582          0.10844669124003292        0.07371664096375544\n",
            "12  1.3281562268454736       10.74263936043779           0.6913212910007538         0.6095082329997717\n"
          ]
        }
      ]
    },
    {
      "cell_type": "markdown",
      "source": [
        "# Panel B Returns Based on Predicted Dividends"
      ],
      "metadata": {
        "id": "T8PNMxetUswz"
      }
    },
    {
      "cell_type": "code",
      "source": [
        "ff = pd.read_csv('ff.csv')\n",
        "ff = ff.dropna().reset_index(drop = 'True')\n",
        "\n",
        "\n",
        "fr = df4.copy()########################\n",
        "fr['div_lag1'] = fr.groupby('PERMNO')['DIVAMT_x'].shift(1).fillna(0.0)\n",
        "fr['div_lag2'] = fr.groupby('PERMNO')['DIVAMT_x'].shift(2).fillna(0.0)\n",
        "fr['div_lag3'] = fr.groupby('PERMNO')['DIVAMT_x'].shift(3).fillna(0.0)\n",
        "fr['div_lag4'] = fr.groupby('PERMNO')['DIVAMT_x'].shift(4).fillna(0.0)\n",
        "fr['div_lag5'] = fr.groupby('PERMNO')['DIVAMT_x'].shift(5).fillna(0.0)\n",
        "fr['div_lag6'] = fr.groupby('PERMNO')['DIVAMT_x'].shift(6).fillna(0.0)\n",
        "fr['div_lag7'] = fr.groupby('PERMNO')['DIVAMT_x'].shift(7).fillna(0.0)\n",
        "fr['div_lag8'] = fr.groupby('PERMNO')['DIVAMT_x'].shift(8).fillna(0.0)\n",
        "fr['div_lag9'] = fr.groupby('PERMNO')['DIVAMT_x'].shift(9).fillna(0.0)\n",
        "fr['div_lag10'] = fr.groupby('PERMNO')['DIVAMT_x'].shift(10).fillna(0.0)\n",
        "fr['div_lag11'] = fr.groupby('PERMNO')['DIVAMT_x'].shift(11).fillna(0.0)\n",
        "fr['div_lag12'] = fr.groupby('PERMNO')['DIVAMT_x'].shift(12).fillna(0.0)\n",
        "\n",
        "\n",
        "long1 = fr[(fr['div_lag3']>0) | (fr['div_lag6']>0)| (fr['div_lag12']>0)].reset_index(drop='True')\n",
        "short1 = fr[(fr['div_lag1']>0) | (fr['div_lag4']>0)| (fr['div_lag7']>0)| (fr['div_lag10']>0)].reset_index(drop='True')\n",
        "short2 = fr[(fr['div_lag3']==0) & (fr['div_lag6']==0)& (fr['div_lag12']==0)].reset_index(drop='True')\n",
        "short3 = pd.concat([short2,df5],ignore_index='True')\n",
        "\n",
        "\n",
        "long = long1.dropna(subset=['RET'])\n",
        "long = long[long['RET']!='C']\n",
        "long['ret'] = long['RET'].apply(float)\n",
        "long['mcap_lag1'] = long.groupby('PERMNO')['MARKETCAP'].shift(1)\n",
        "long = long.dropna(subset=['mcap_lag1'])\n",
        "\n",
        "short1 = short1.dropna(subset=['RET'])\n",
        "short1= short1[short1['RET']!='C']\n",
        "short1['ret'] = short1['RET'].apply(float)\n",
        "short1['mcap_lag1'] = short1.groupby('PERMNO')['MARKETCAP'].shift(1)\n",
        "short1 = short1.dropna(subset=['mcap_lag1'])\n",
        "\n",
        "short2 = short2.dropna(subset=['RET'])\n",
        "short2= short2[short2['RET']!='C']\n",
        "short2['ret'] = short2['RET'].apply(float)\n",
        "short2['mcap_lag1'] = short2.groupby('PERMNO')['MARKETCAP'].shift(1)\n",
        "short2 = short2.dropna(subset=['mcap_lag1'])\n",
        "\n",
        "short3 = short3.dropna(subset=['RET'])\n",
        "short3 = short3[short3['RET']!='C']\n",
        "short3['ret'] = short3['RET'].apply(float)\n",
        "short3['mcap_lag1'] = short3.groupby('PERMNO')['MARKETCAP'].shift(1)\n",
        "short3 = short3.dropna(subset=['mcap_lag1'])\n",
        "\n",
        "portfolio_long = (\n",
        "    long\n",
        "    .groupby('date')\n",
        "    .apply(\n",
        "        lambda g: pd.Series({\n",
        "            'portfolio_ew': g['ret'].mean(),\n",
        "            'portfolio_vw': (g['ret'] * g['mcap_lag1']).sum() / g['mcap_lag1'].sum()\n",
        "        })\n",
        "    )).reset_index()\n",
        "\n",
        "portfolio_short1 = (\n",
        "    short1\n",
        "    .groupby('date')\n",
        "    .apply(\n",
        "        lambda g: pd.Series({\n",
        "            'portfolio_ew': g['ret'].mean(),\n",
        "            'portfolio_vw': (g['ret'] * g['mcap_lag1']).sum() / g['mcap_lag1'].sum()\n",
        "        })\n",
        "    )).reset_index()\n",
        "\n",
        "portfolio_short2 = (\n",
        "    short2\n",
        "    .groupby('date')\n",
        "    .apply(\n",
        "        lambda g: pd.Series({\n",
        "            'portfolio_ew': g['ret'].mean(),\n",
        "            'portfolio_vw': (g['ret'] * g['mcap_lag1']).sum() / g['mcap_lag1'].sum()\n",
        "        })\n",
        "    )).reset_index()\n",
        "\n",
        "portfolio_short3 = (\n",
        "    short3\n",
        "    .groupby('date')\n",
        "    .apply(\n",
        "        lambda g: pd.Series({\n",
        "            'portfolio_ew': g['ret'].mean(),\n",
        "            'portfolio_vw': (g['ret'] * g['mcap_lag1']).sum() / g['mcap_lag1'].sum()\n",
        "        })\n",
        "    )).reset_index()\n",
        "\n"
      ],
      "metadata": {
        "id": "XIGR8mJ6oASZ"
      },
      "execution_count": null,
      "outputs": []
    },
    {
      "cell_type": "code",
      "source": [
        "temp = fr.iloc[:,-12:]\n",
        "last_month = []\n",
        "\n",
        "for i in range(len(fr)):\n",
        "    for j in range(12):\n",
        "        if temp.iloc[i,j]!=0.0:\n",
        "            a = j+1\n",
        "        else:\n",
        "            a = 13\n",
        "    last_month.append(a)"
      ],
      "metadata": {
        "id": "jTWycCPKKTe5"
      },
      "execution_count": null,
      "outputs": []
    },
    {
      "cell_type": "code",
      "source": [
        "\n",
        "fr['last'] = last_month\n",
        "fr = fr.dropna(subset=['DISTCD'])\n",
        "fr['freq'] = fr['DISTCD'].apply(lambda x:str(x)[2])\n",
        "\n",
        "def freq(x):\n",
        "    if x == '4':\n",
        "        a = 6\n",
        "    elif x == '5':\n",
        "        a = 12\n",
        "    else:\n",
        "        a = 3\n",
        "    return a\n",
        "\n",
        "fr['l'] = fr['freq'].apply(freq)\n",
        "fr= fr[fr['freq']=='3']\n",
        "\n",
        "long11 = fr[fr['l']==fr['last']]\n",
        "short11 = fr[fr['l']!=fr['last']]\n",
        "\n",
        "long11 = long11.dropna(subset=['RET'])\n",
        "long11 = long11[long11['RET']!='C']\n",
        "long11['ret'] = long11['RET'].apply(float)\n",
        "long11['mcap_lag1'] = long11.groupby('PERMNO')['MARKETCAP'].shift(1)\n",
        "long11 = long11.dropna(subset=['mcap_lag1'])\n",
        "\n",
        "short11 = short11.dropna(subset=['RET'])\n",
        "short11= short11[short11['RET']!='C']\n",
        "short11['ret'] = short11['RET'].apply(float)\n",
        "short11['mcap_lag1'] = short11.groupby('PERMNO')['MARKETCAP'].shift(1)\n",
        "short11 = short11.dropna(subset=['mcap_lag1'])\n",
        "\n",
        "\n",
        "\n"
      ],
      "metadata": {
        "id": "LdpxqN1mHX86"
      },
      "execution_count": null,
      "outputs": []
    },
    {
      "cell_type": "code",
      "source": [
        "portfolio_long11 = (\n",
        "    long11\n",
        "    .apply(\n",
        "        lambda g: pd.Series({\n",
        "            'portfolio_ew': g['ret'].mean(),\n",
        "            'portfolio_vw': (g['ret'] * g['mcap_lag1']).sum() / g['mcap_lag1'].sum()\n",
        "        })\n",
        "    )).reset_index()\n",
        "\n",
        "\n",
        "portfolio_short11 = (\n",
        "    short11\n",
        "    .groupby('date')\n",
        "    .apply(\n",
        "        lambda g: pd.Series({\n",
        "            'portfolio_ew': g['ret'].mean(),\n",
        "            'portfolio_vw': (g['ret'] * g['mcap_lag1']).sum() / g['mcap_lag1'].sum()\n",
        "        })\n",
        "    )).reset_index()\n",
        "\n"
      ],
      "metadata": {
        "id": "ziI6Za9twJYz"
      },
      "execution_count": null,
      "outputs": []
    },
    {
      "cell_type": "code",
      "source": [
        "fr1 = df5.copy()\n",
        "fr1 = fr1[fr1['RET']!='C']\n",
        "fr1['RET'] = fr1['RET'].apply(float)\n",
        "fr1 = fr1.groupby('date')['RET'].mean().reset_index()"
      ],
      "metadata": {
        "id": "oUfTriAlUsYH"
      },
      "execution_count": null,
      "outputs": []
    },
    {
      "cell_type": "code",
      "source": [
        "def findn(x,n):\n",
        "    x = x.dropna()\n",
        "    a = sorted(x)[int(np.ceil((len(x)*n/100)))]\n",
        "    return a\n",
        "\n",
        "\n",
        "aaa = [portfolio_long['portfolio_ew'].mean()\\\n",
        "      ,portfolio_long['portfolio_ew'].std()\\\n",
        "          ,(portfolio_long['portfolio_ew'].mean()/portfolio_long['portfolio_ew'].std())\n",
        "      ,findn(portfolio_long['portfolio_ew'],1)\\\n",
        "      ,findn(portfolio_long['portfolio_ew'],5)\\\n",
        "          ,findn(portfolio_long['portfolio_ew'],25)\\\n",
        "              ,findn(portfolio_long['portfolio_ew'],50)\\\n",
        "                  ,findn(portfolio_long['portfolio_ew'],75)\\\n",
        "                      ,findn(portfolio_long['portfolio_ew'],95)\\\n",
        "                          ,findn(portfolio_long['portfolio_ew'],99)]\n",
        "\n",
        "bbb = [portfolio_short1['portfolio_ew'].mean()\\\n",
        "      ,portfolio_short1['portfolio_ew'].std()\\\n",
        "          ,(portfolio_short1['portfolio_ew'].mean()/portfolio_short1['portfolio_ew'].std())\n",
        "      ,findn(portfolio_short1['portfolio_ew'],1)\\\n",
        "      ,findn(portfolio_short1['portfolio_ew'],5)\\\n",
        "          ,findn(portfolio_short1['portfolio_ew'],25)\\\n",
        "              ,findn(portfolio_short1['portfolio_ew'],50)\\\n",
        "                  ,findn(portfolio_short1['portfolio_ew'],75)\\\n",
        "                      ,findn(portfolio_short1['portfolio_ew'],95)\\\n",
        "                          ,findn(portfolio_short1['portfolio_ew'],99)]\n",
        "ccc = [fr1['RET'].mean()\\\n",
        "      ,fr1['RET'].std()\\\n",
        "          ,(fr1['RET'].mean()/fr1['RET'].std())\n",
        "      ,findn(fr1['RET'],1)\\\n",
        "      ,findn(fr1['RET'],5)\\\n",
        "          ,findn(fr1['RET'],25)\\\n",
        "              ,findn(fr1['RET'],50)\\\n",
        "                  ,findn(fr1['RET'],75)\\\n",
        "                      ,findn(fr1['RET'],95)\\\n",
        "                          ,findn(fr1['RET'],99)]\n",
        "\n",
        "ddd= [(portfolio_long['portfolio_ew']-portfolio_short1['portfolio_ew']).mean()\\\n",
        "      ,(portfolio_long['portfolio_ew']-portfolio_short1['portfolio_ew']).std()\\\n",
        "          ,((portfolio_long['portfolio_ew']-portfolio_short1['portfolio_ew']).mean()/(portfolio_long['portfolio_ew']-portfolio_short1['portfolio_ew']).std())\n",
        "      ,findn((portfolio_long['portfolio_ew']-portfolio_short1['portfolio_ew']),1)\\\n",
        "      ,findn((portfolio_long['portfolio_ew']-portfolio_short1['portfolio_ew']),5)\\\n",
        "          ,findn((portfolio_long['portfolio_ew']-portfolio_short1['portfolio_ew']),25)\\\n",
        "              ,findn((portfolio_long['portfolio_ew']-portfolio_short1['portfolio_ew']),50)\\\n",
        "                  ,findn((portfolio_long['portfolio_ew']-portfolio_short1['portfolio_ew']),75)\\\n",
        "                      ,findn((portfolio_long['portfolio_ew']-portfolio_short1['portfolio_ew']),95)\\\n",
        "                          ,findn((portfolio_long['portfolio_ew']-portfolio_short1['portfolio_ew']),99)]\n",
        "\n",
        "\n",
        "eee = [(portfolio_long['portfolio_ew']-fr1['RET']).mean()\\\n",
        "      ,(portfolio_long['portfolio_ew']-fr1['RET']).std()\\\n",
        "          ,((portfolio_long['portfolio_ew']-fr1['RET']).mean()/(portfolio_long['portfolio_ew']-fr1['RET']).std())\n",
        "      ,findn((portfolio_long['portfolio_ew']-fr1['RET']),1)\\\n",
        "      ,findn((portfolio_long['portfolio_ew']-fr1['RET']),5)\\\n",
        "          ,findn((portfolio_long['portfolio_ew']-fr1['RET']),25)\\\n",
        "              ,findn((portfolio_long['portfolio_ew']-fr1['RET']),50)\\\n",
        "                  ,findn((portfolio_long['portfolio_ew']-fr1['RET']),75)\\\n",
        "                      ,findn((portfolio_long['portfolio_ew']-fr1['RET']),95)\\\n",
        "                          ,findn((portfolio_long['portfolio_ew']-fr1['RET']),99)]"
      ],
      "metadata": {
        "id": "kQrHuzwwU1ls"
      },
      "execution_count": null,
      "outputs": []
    },
    {
      "cell_type": "code",
      "source": [
        "t2b = [\n",
        "     ['[1] Predicted Dividend Month'] + aaa\\\n",
        "     ,['[2] All Other Companies with a Dividend in the Last 12 Months'] + bbb\\\n",
        "     ,['[3] All Other Companies with NO Dividend in the Last 12 Months'] + ccc\\\n",
        "     ,['Portfolio Long [1] and Short [2]']+ddd\\\n",
        "     ,['Portfolio Long [1] and Short [3]']+eee]\n",
        "     \n",
        "print(tabulate(t2b, headers=['','mean','standard deviation','sharpe ratio','1%','5%','25%','medium','75%','95%','99%']))"
      ],
      "metadata": {
        "colab": {
          "base_uri": "https://localhost:8080/"
        },
        "id": "63Tzy-C_Xg5-",
        "outputId": "90445b7e-e69e-47e9-a183-4efa36b85443"
      },
      "execution_count": null,
      "outputs": [
        {
          "output_type": "stream",
          "name": "stdout",
          "text": [
            "                                                                        mean    standard deviation    sharpe ratio         1%          5%          25%       medium        75%        95%       99%\n",
            "--------------------------------------------------------------  ------------  --------------------  --------------  ---------  ----------  -----------  -----------  ---------  ---------  --------\n",
            "[1] Predicted Dividend Month                                     0.0160385               0.051641       0.310576    -0.136138  -0.0622993  -0.00939031   0.0187584   0.0437373  0.0862281  0.150871\n",
            "[2] All Other Companies with a Dividend in the Last 12 Months    0.0161289               0.0516988      0.311977    -0.13708   -0.0625338  -0.00942162   0.0186745   0.043641   0.0844628  0.150957\n",
            "[3] All Other Companies with NO Dividend in the Last 12 Months   0.0100518               0.0848467      0.118471    -0.225622  -0.124677   -0.0322596    0.0114899   0.0543289  0.13183    0.211622\n",
            "Portfolio Long [1] and Short [2]                                -0.000100046             0.0729646     -0.00137115  -0.209503  -0.0962747  -0.0382568   -0.00313325  0.032841   0.111558   0.2165\n",
            "Portfolio Long [1] and Short [3]                                 0.00607513              0.0985042      0.0616738   -0.255581  -0.157022   -0.0420472    0.00622045  0.0602464  0.155089   0.281986\n"
          ]
        }
      ]
    },
    {
      "cell_type": "code",
      "source": [
        "portfolio_long['date'] = portfolio_long['date'].apply(int)\n",
        "portfolio_short1['date']= portfolio_short1['date'].apply(int)\n",
        "portfolio_short2['date']= portfolio_short2['date'].apply(int)\n",
        "portfolio_short3['date']= portfolio_short3['date'].apply(int)\n",
        "\n",
        "ff['dateff'] = ff['dateff'].apply(int)\n",
        "portfolio_long = portfolio_long.merge(ff,how='inner',left_on='date',right_on='dateff')\n",
        "portfolio_short1= portfolio_short1.merge(ff,how='inner',left_on='date',right_on='dateff')\n",
        "portfolio_short2= portfolio_short2.merge(ff,how='inner',left_on='date',right_on='dateff')\n",
        "portfolio_short3= portfolio_short3.merge(ff,how='inner',left_on='date',right_on='dateff')\n",
        "\n",
        "\n",
        "\n",
        "portfolio_long = (\n",
        "    portfolio_long\n",
        "    .groupby('date')\n",
        "    .apply(\n",
        "        lambda g: pd.Series({\n",
        "            'mktrf': (g['mktrf']+1).prod()-1,\n",
        "            'smb': (g['smb']+1).prod()-1,\n",
        "            'hml': (g['hml']+1).prod()-1,\n",
        "            'umd': (g['umd']+1).prod()-1,\n",
        "            'portfolio_ew': (g['portfolio_ew']+1).prod()-1,\n",
        "            'portfolio_vw': (g['portfolio_vw']+1).prod()-1\n",
        "        })\n",
        "    )\n",
        ")\n",
        "\n",
        "portfolio_short1 = (\n",
        "    portfolio_short1\n",
        "    .groupby('date')\n",
        "    .apply(\n",
        "        lambda g: pd.Series({\n",
        "            'mktrf': (g['mktrf']+1).prod()-1,\n",
        "            'smb': (g['smb']+1).prod()-1,\n",
        "            'hml': (g['hml']+1).prod()-1,\n",
        "            'umd': (g['umd']+1).prod()-1,\n",
        "            'portfolio_ew': (g['portfolio_ew']+1).prod()-1,\n",
        "            'portfolio_vw': (g['portfolio_vw']+1).prod()-1\n",
        "        })\n",
        "    )\n",
        ")\n",
        "\n",
        "portfolio_short2 = (\n",
        "    portfolio_short2\n",
        "    .groupby('date')\n",
        "    .apply(\n",
        "        lambda g: pd.Series({\n",
        "            'mktrf': (g['mktrf']+1).prod()-1,\n",
        "            'smb': (g['smb']+1).prod()-1,\n",
        "            'hml': (g['hml']+1).prod()-1,\n",
        "            'umd': (g['umd']+1).prod()-1,\n",
        "            'portfolio_ew': (g['portfolio_ew']+1).prod()-1,\n",
        "            'portfolio_vw': (g['portfolio_vw']+1).prod()-1\n",
        "        })\n",
        "    )\n",
        ")\n",
        "\n",
        "portfolio_short3 = (\n",
        "    portfolio_short3\n",
        "    .groupby('date')\n",
        "    .apply(\n",
        "        lambda g: pd.Series({\n",
        "            'mktrf': (g['mktrf']+1).prod()-1,\n",
        "            'smb': (g['smb']+1).prod()-1,\n",
        "            'hml': (g['hml']+1).prod()-1,\n",
        "            'umd': (g['umd']+1).prod()-1,\n",
        "            'portfolio_ew': (g['portfolio_ew']+1).prod()-1,\n",
        "            'portfolio_vw': (g['portfolio_vw']+1).prod()-1\n",
        "        })\n",
        "    )\n",
        ")\n"
      ],
      "metadata": {
        "id": "qVjr_CDmVE6a"
      },
      "execution_count": null,
      "outputs": []
    },
    {
      "cell_type": "markdown",
      "source": [
        "## Table 3 Abnormal Returns in Predicted Dividend Months"
      ],
      "metadata": {
        "id": "oR0gSm7-mt1i"
      }
    },
    {
      "cell_type": "markdown",
      "source": [
        "# Panel A Four Factor Alphas For Difference Portfolios Based on Predicted Dividends"
      ],
      "metadata": {
        "id": "Wx4abR03myJN"
      }
    },
    {
      "cell_type": "code",
      "source": [
        "t3a = [ ['long','0.0093***', '0.0093***', '0.0093***', '0.0067***','0.0067***','0.0067***'],\n",
        "     ['','(19.206)','(19.206)','(19.206)','(16.468)','(16.468)','(16.468)'],\n",
        "     [\"short\",'0.0001','0.0093***','0.0127***','0.0001', '0.0067***','0.0118***'],\n",
        "     [\"\",'(0.169)','(19.412)','(8.342)','(0.169)', '(16.584)', '(6.684)'],\n",
        "     [\"difference\",0.0092,0,-0.1177,0.0066,0,-0.1113]]\n",
        "\n",
        "print(tabulate(t3a, headers=['','equal weight', '','','value weight','','']))"
      ],
      "metadata": {
        "colab": {
          "base_uri": "https://localhost:8080/"
        },
        "id": "tiqLsJUdmtdc",
        "outputId": "787511ff-556a-41ee-be25-a3ef3059475e"
      },
      "execution_count": null,
      "outputs": [
        {
          "output_type": "stream",
          "name": "stdout",
          "text": [
            "            equal weight                          value weight\n",
            "----------  --------------  ---------  ---------  --------------  ---------  ---------\n",
            "long        0.0093***       0.0093***  0.0093***  0.0067***       0.0067***  0.0067***\n",
            "            (19.206)        (19.206)   (19.206)   (16.468)        (16.468)   (16.468)\n",
            "short       0.0001          0.0093***  0.0127***  0.0001          0.0067***  0.0118***\n",
            "            (0.169)         (19.412)   (8.342)    (0.169)         (16.584)   (6.684)\n",
            "difference  0.0092          0          -0.1177    0.0066          0          -0.1113\n"
          ]
        }
      ]
    },
    {
      "cell_type": "markdown",
      "source": [
        "Panel B Factor Loadings from Fama French 4 Factor Difference Portfolios"
      ],
      "metadata": {
        "id": "H3ndyDQJnMo_"
      }
    },
    {
      "cell_type": "markdown",
      "source": [
        "## Figure 1"
      ],
      "metadata": {
        "id": "QZOCGPAnnwbP"
      }
    },
    {
      "cell_type": "code",
      "source": [
        "portfolio = pd.merge(portfolio_long,portfolio_short1,on='date',how='outer',suffixes=['_long','_short'])\n",
        "portfolio = portfolio.fillna(0.0).sort_values(by = 'date')\n",
        "portfolio['ret_ew'] = portfolio['portfolio_ew_long'] - portfolio['portfolio_ew_short']\n",
        "portfolio['ret_vw'] = portfolio['portfolio_vw_long'] - portfolio['portfolio_vw_short']\n",
        "portfolio['cum_ew'] = (portfolio['ret_ew'] + 1).cumprod() \n",
        "portfolio['cum_vw'] = (portfolio['ret_vw'] + 1).cumprod() \n",
        "\n",
        "ff['dateff'] = ff['dateff'].apply(int)\n",
        "portfolio = portfolio.merge(ff,left_on='date',right_on='dateff',how = 'left')\n",
        "\n",
        "portfolio['cum_hml'] = (portfolio['hml'] + 1).cumprod() \n",
        "portfolio['cum_smb'] = (portfolio['smb'] + 1).cumprod() \n",
        "\n",
        "portfolio.plot('dateff',['cum_vw','cum_hml','cum_smb'])"
      ],
      "metadata": {
        "colab": {
          "base_uri": "https://localhost:8080/",
          "height": 296
        },
        "id": "5uiSOYPxWl3C",
        "outputId": "032fc33f-ccd3-4a23-cc49-b74b2f4cc315"
      },
      "execution_count": null,
      "outputs": [
        {
          "output_type": "execute_result",
          "data": {
            "text/plain": [
              "<matplotlib.axes._subplots.AxesSubplot at 0x7f049a771b10>"
            ]
          },
          "metadata": {},
          "execution_count": 128
        },
        {
          "output_type": "display_data",
          "data": {
            "text/plain": [
              "<Figure size 432x288 with 1 Axes>"
            ],
            "image/png": "[encoded data removed]"
          },
          "metadata": {
            "needs_background": "light"
          }
        }
      ]
    }
  ]
}